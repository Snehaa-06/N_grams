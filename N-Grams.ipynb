{
 "cells": [
  {
   "cell_type": "raw",
   "id": "7b5f590c-7744-407c-ace3-2fba99dd8f7a",
   "metadata": {},
   "source": [
    "\n",
    "\n",
    "#  UNIGRAM MODEL\n",
    "\n"
   ]
  },
  {
   "cell_type": "code",
   "execution_count": 6,
   "id": "5b66429a-607a-44b0-bb57-5da910187344",
   "metadata": {},
   "outputs": [
    {
     "name": "stdout",
     "output_type": "stream",
     "text": [
      "Splitted text : \n",
      "the the sat the the the the fat cat fat\n"
     ]
    }
   ],
   "source": [
    "import random \n",
    "\n",
    "corpus=\"the cat sat on the mat the cat is fat\"\n",
    "\n",
    "#Split the corpus into words\n",
    "words=corpus.split()\n",
    "print(\"Splitted text : \")\n",
    "\n",
    "#Calculate unigram probabilities\n",
    "word_freq={word:words.count(word) for word in set(words)}\n",
    "total_words=len(words)\n",
    "word_prob={word:freq/total_words for word,freq in word_freq.items()}\n",
    "\n",
    "#Generate text\n",
    "generated_text=[]\n",
    "for _ in range(10):\n",
    "    word=random.choices(list(word_prob.keys()),list(word_prob.values())) [0]\n",
    "    generated_text.append(word)\n",
    "\n",
    "print(' '.join(generated_text))"
   ]
  },
  {
   "cell_type": "code",
   "execution_count": null,
   "id": "8f1b3840-6ec6-4d81-be10-00beb7e11654",
   "metadata": {},
   "outputs": [],
   "source": []
  },
  {
   "cell_type": "raw",
   "id": "2750fa8e-dacb-46c0-9366-31df658ba4c7",
   "metadata": {},
   "source": [
    "\n",
    "\n",
    "#  BIGRAM MODEL\n",
    "\n"
   ]
  },
  {
   "cell_type": "code",
   "execution_count": 19,
   "id": "524de590-8cc8-4473-8cfc-dda15f666423",
   "metadata": {},
   "outputs": [
    {
     "name": "stdout",
     "output_type": "stream",
     "text": [
      "cat is fat\n"
     ]
    }
   ],
   "source": [
    "import random\n",
    "from collections import defaultdict\n",
    "\n",
    "#Define the corpus\n",
    "corpus=\"the cat sat on the mat the cat is fat\"\n",
    "\n",
    "#Split the corpus into words \n",
    "words=corpus.split()\n",
    "\n",
    "#Build the bigram model\n",
    "bigrams=[(words[i],words[i+1]) for i in range(len(words)-1)]\n",
    "bigram_freq=defaultdict(lambda:defaultdict(int))\n",
    "\n",
    "for w1,w2 in bigrams:\n",
    "    bigram_freq[w1][w2]+=1\n",
    "\n",
    "#Convert counts to probabilities\n",
    "bigram_prob=defaultdict(dict)\n",
    "for w1 in bigram_freq:\n",
    "    total_count=float(sum(bigram_freq[w1].values()))\n",
    "    for w2 in bigram_freq[w1]:\n",
    "        bigram_prob[w1][w2]=bigram_freq[w1][w2]/total_count\n",
    "\n",
    "#Generate text using the bigram model\n",
    "def generated_text(start_word,length=10):\n",
    "    current_word=start_word\n",
    "    result=[current_word]\n",
    "    for _ in range(length -1):\n",
    "        if current_word in bigram_prob:\n",
    "            next_word=random.choices(list(bigram_prob[current_word].keys()),list(bigram_prob[current_word].values())) [0]\n",
    "            result.append(next_word)\n",
    "            current_word=next_word\n",
    "        else:\n",
    "            break\n",
    "    return ' '.join(result)\n",
    "\n",
    "generate_txt=generated_text(start_word='cat',length=10)\n",
    "print(generate_txt)\n",
    "\n"
   ]
  },
  {
   "cell_type": "code",
   "execution_count": 11,
   "id": "97e594fc-64ce-47da-9ac0-a8408f02b946",
   "metadata": {},
   "outputs": [
    {
     "data": {
      "text/plain": [
       "[('the', 'cat'),\n",
       " ('cat', 'sat'),\n",
       " ('sat', 'on'),\n",
       " ('on', 'the'),\n",
       " ('the', 'mat'),\n",
       " ('mat', 'the'),\n",
       " ('the', 'cat'),\n",
       " ('cat', 'is'),\n",
       " ('is', 'fat')]"
      ]
     },
     "execution_count": 11,
     "metadata": {},
     "output_type": "execute_result"
    }
   ],
   "source": [
    "bigrams"
   ]
  },
  {
   "cell_type": "code",
   "execution_count": 12,
   "id": "0e78f7e8-695f-48f8-b93c-faaafca56c50",
   "metadata": {},
   "outputs": [
    {
     "data": {
      "text/plain": [
       "defaultdict(<function __main__.<lambda>()>,\n",
       "            {'the': defaultdict(int, {'cat': 2, 'mat': 1}),\n",
       "             'cat': defaultdict(int, {'sat': 1, 'is': 1}),\n",
       "             'sat': defaultdict(int, {'on': 1}),\n",
       "             'on': defaultdict(int, {'the': 1}),\n",
       "             'mat': defaultdict(int, {'the': 1}),\n",
       "             'is': defaultdict(int, {'fat': 1})})"
      ]
     },
     "execution_count": 12,
     "metadata": {},
     "output_type": "execute_result"
    }
   ],
   "source": [
    "bigram_freq"
   ]
  },
  {
   "cell_type": "code",
   "execution_count": 13,
   "id": "8d78db36-981f-4389-a50b-cd981fcfb909",
   "metadata": {},
   "outputs": [
    {
     "data": {
      "text/plain": [
       "defaultdict(dict,\n",
       "            {'the': {'cat': 0.6666666666666666, 'mat': 0.3333333333333333},\n",
       "             'cat': {'sat': 0.5, 'is': 0.5},\n",
       "             'sat': {'on': 1.0},\n",
       "             'on': {'the': 1.0},\n",
       "             'mat': {'the': 1.0},\n",
       "             'is': {'fat': 1.0}})"
      ]
     },
     "execution_count": 13,
     "metadata": {},
     "output_type": "execute_result"
    }
   ],
   "source": [
    "bigram_prob"
   ]
  },
  {
   "cell_type": "code",
   "execution_count": 14,
   "id": "912095bd-eaac-4f35-9fe9-e790d3594cf2",
   "metadata": {},
   "outputs": [
    {
     "data": {
      "text/plain": [
       "1.0"
      ]
     },
     "execution_count": 14,
     "metadata": {},
     "output_type": "execute_result"
    }
   ],
   "source": [
    "total_count"
   ]
  },
  {
   "cell_type": "raw",
   "id": "cb1a2799-0120-4590-b696-07ac72df3ec3",
   "metadata": {},
   "source": [
    "\n",
    "\n",
    "# Trigram Model \n",
    "\n"
   ]
  },
  {
   "cell_type": "code",
   "execution_count": 59,
   "id": "6a4f5e5a-8290-425b-8d50-bdc95e321d36",
   "metadata": {},
   "outputs": [
    {
     "name": "stdout",
     "output_type": "stream",
     "text": [
      "the cat sat on the mat the cat is fat\n"
     ]
    }
   ],
   "source": [
    "import random\n",
    "from collections import defaultdict\n",
    "\n",
    "corpus=\"the cat sat on the mat the cat is fat\"\n",
    "words=corpus.split()\n",
    "trigrams=[(words[i],words[i+1],words[i+2]) for i in range(len(words)-2)]\n",
    "trigram_freq=defaultdict(lambda:defaultdict(int))\n",
    "\n",
    "for w1,w2,w3 in trigrams:\n",
    "    trigram_freq[(w1,w2)][w3]+=1\n",
    "    \n",
    "trigram_prob=defaultdict(dict)\n",
    "for w1_w2 in trigram_freq:\n",
    "    total_count=float(sum(trigram_freq[w1_w2].values()))\n",
    "    for w3 in trigram_freq[w1_w2]:\n",
    "        trigram_prob[w1_w2][w3]=trigram_freq[w1_w2][w3]/total_count\n",
    "\n",
    "def generate_text(start_words,length=10):\n",
    "    current_words=start_words\n",
    "    result=list(current_words)\n",
    "    for _ in range(length - 2):\n",
    "       if current_words in trigram_prob:\n",
    "            next_word=random.choices(list(trigram_prob[current_words].keys()),list(trigram_prob[current_words].values())) [0]\n",
    "            result.append(next_word)\n",
    "            current_words=(current_words[1],next_word) \n",
    "       else:\n",
    "            break\n",
    "    return ' '.join(result)\n",
    "\n",
    "gen_txt=generate_text(start_words=('the','cat'),length=10)\n",
    "print(gen_txt)\n"
   ]
  },
  {
   "cell_type": "code",
   "execution_count": null,
   "id": "087f38ac-bf75-47a5-b595-9313b16a01bd",
   "metadata": {},
   "outputs": [],
   "source": []
  },
  {
   "cell_type": "code",
   "execution_count": null,
   "id": "17f5c5b3-618d-4842-9d60-9c1b02deb3bb",
   "metadata": {},
   "outputs": [],
   "source": []
  }
 ],
 "metadata": {
  "kernelspec": {
   "display_name": "Python 3 (ipykernel)",
   "language": "python",
   "name": "python3"
  },
  "language_info": {
   "codemirror_mode": {
    "name": "ipython",
    "version": 3
   },
   "file_extension": ".py",
   "mimetype": "text/x-python",
   "name": "python",
   "nbconvert_exporter": "python",
   "pygments_lexer": "ipython3",
   "version": "3.12.4"
  }
 },
 "nbformat": 4,
 "nbformat_minor": 5
}
